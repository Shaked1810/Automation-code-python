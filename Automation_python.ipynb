{
 "cells": [
  {
   "cell_type": "code",
   "execution_count": 1,
   "id": "eae81143",
   "metadata": {},
   "outputs": [],
   "source": [
    "from pptx import Presentation\n",
    "from pptx.util import Inches,Pt,Cm\n",
    "from pptx.enum.text import PP_ALIGN\n",
    "import pandas as pd\n",
    "import os"
   ]
  },
  {
   "cell_type": "code",
   "execution_count": 2,
   "id": "29a99983",
   "metadata": {},
   "outputs": [
    {
     "name": "stderr",
     "output_type": "stream",
     "text": [
      "C:\\Users\\User\\AppData\\Local\\Temp\\ipykernel_4588\\854340508.py:5: FutureWarning: The default value of regex will change from True to False in a future version.\n",
      "  users.loc[(users['Function '].str.contains('Judge') == False) & (users['Function '].str.contains('|'.join(['MAG','WAG']))),'Function '] = users.loc[(users['Function '].str.contains('Judge') == False) & (users['Function '].str.contains('|'.join(['MAG','WAG']))),'Function '].str.replace('|'.join(['MAG','WAG']),'')\n"
     ]
    }
   ],
   "source": [
    "users = pd.read_excel(r'D:\\Shaked\\Yahav_the_king\\FIG World Challenge Cup 2023 TEL-AVIV Nominative- 8.5.23.xlsx',\n",
    "                      skiprows=11,\n",
    "                     usecols=\"A,C,D,F\")\n",
    "\n",
    "users.loc[(users['Function '].str.contains('Judge') == False) & (users['Function '].str.contains('|'.join(['MAG','WAG']))),'Function '] = users.loc[(users['Function '].str.contains('Judge') == False) & (users['Function '].str.contains('|'.join(['MAG','WAG']))),'Function '].str.replace('|'.join(['MAG','WAG']),'')"
   ]
  },
  {
   "cell_type": "code",
   "execution_count": 3,
   "id": "7b867fa7",
   "metadata": {},
   "outputs": [],
   "source": [
    "x = Presentation()\n",
    "x.slide_width = Cm(9.8)\n",
    "x.slide_height = Cm(13.8)"
   ]
  },
  {
   "cell_type": "code",
   "execution_count": 4,
   "id": "35db2c4f",
   "metadata": {},
   "outputs": [],
   "source": [
    "for i in range(users.shape[0]):\n",
    "    Layout = x.slide_layouts[8] \n",
    "    slide = x.slides.add_slide(Layout) # Adding first slide\n",
    "    \n",
    "    if(users['Function '].iloc[i] == 'Senior Judge'):\n",
    "    \n",
    "        slide.shapes.add_picture('D:\\Shaked\\Yahav_the_king\\card_tickets\\\\'+'DeJudge.png', left=0, top=0, width=x.slide_width, height=x.slide_height)\n",
    "    \n",
    "    \n",
    "    elif(users['Function '].iloc[i] == 'Head of delegation'):\n",
    "        \n",
    "        slide.shapes.add_picture('D:\\Shaked\\Yahav_the_king\\card_tickets\\\\'+'DeHead.png', left=0, top=0, width=x.slide_width, height=x.slide_height)\n",
    "        \n",
    "    else:\n",
    "        \n",
    "        slide.shapes.add_picture('D:\\Shaked\\Yahav_the_king\\card_tickets\\\\'+'De.png', left=0, top=0, width=x.slide_width, height=x.slide_height)\n",
    "    \n",
    "    \n",
    "    \n",
    "    \n",
    "    name = slide.shapes.add_textbox(Inches(0), Inches(3.085),\n",
    "                            width=x.slide_width, height=Inches(0.5))\n",
    "    \n",
    "    country = slide.shapes.add_textbox(Inches(0.3), Inches(1.665),\n",
    "                            width=Inches(2), height=Inches(1))\n",
    "    \n",
    "    job = slide.shapes.add_textbox(Inches(0), Inches(3.6),\n",
    "                            width=x.slide_width, height=Inches(0.5))\n",
    "    \n",
    "\n",
    "    slide.shapes.add_picture('D:\\Shaked\\Yahav_the_king\\Flags\\\\'+users['Country Code'].iloc[i]  + '.png',\n",
    "                            Inches(1.35), Inches(1.847),\n",
    "                            width=Inches(0.6), height=Inches(0.3))\n",
    "    \n",
    "    try:\n",
    "        matches = (users['First Name'].iloc[i] +' '+ users['Last Name'].iloc[i]).lower().split()\n",
    "        pick_list = os.listdir(r'D:\\Shaked\\Yahav_the_king\\portraits\\\\'+users['Country Code'].iloc[i])\n",
    "        \n",
    "        checker = False\n",
    "        for string in pick_list:\n",
    "            if all([x in string.lower() for x in matches])==True:\n",
    "                k=string\n",
    "                checker = True\n",
    "            \n",
    "        if checker:    \n",
    "            slide.shapes.add_picture(r'D:\\Shaked\\Yahav_the_king\\portraits\\\\'+users['Country Code'].iloc[i]+'\\\\'+k,\n",
    "                                            Inches(2.274), Inches(1.26),\n",
    "                                            width=Inches(1.35), height=Inches(1.8))\n",
    "    \n",
    "    except:\n",
    "        pass\n",
    "    \n",
    "    \n",
    "    run_country = country.text_frame.paragraphs[0].add_run()\n",
    "    run_country.text = users['Country Code'].iloc[i].upper()\n",
    "    run_country.font.size = Pt(30)\n",
    "    run_country.font.bold = True\n",
    "    \n",
    "    run_name = name.text_frame.paragraphs[0].add_run()\n",
    "    run_name.text = (users['First Name'].iloc[i] +' '+ users['Last Name'].iloc[i]).title()\n",
    "    name.text_frame.paragraphs[0].alignment = PP_ALIGN.CENTER\n",
    "    run_name.font.bold = True\n",
    "    \n",
    "    run_job = job.text_frame.paragraphs[0].add_run()\n",
    "    run_job.text = users['Function '].iloc[i].title()\n",
    "    job.text_frame.paragraphs[0].alignment = PP_ALIGN.CENTER\n",
    "    run_job.font.size = Pt(20)\n",
    "    run_job.font.bold = True"
   ]
  },
  {
   "cell_type": "code",
   "execution_count": 5,
   "id": "7909e811",
   "metadata": {},
   "outputs": [],
   "source": [
    "x.save(\"D:\\Shaked\\Yahav_the_king\\Yahav_Mission.pptx\")"
   ]
  },
  {
   "cell_type": "code",
   "execution_count": null,
   "id": "64ed7fb1",
   "metadata": {},
   "outputs": [],
   "source": []
  }
 ],
 "metadata": {
  "kernelspec": {
   "display_name": "Python 3 (ipykernel)",
   "language": "python",
   "name": "python3"
  },
  "language_info": {
   "codemirror_mode": {
    "name": "ipython",
    "version": 3
   },
   "file_extension": ".py",
   "mimetype": "text/x-python",
   "name": "python",
   "nbconvert_exporter": "python",
   "pygments_lexer": "ipython3",
   "version": "3.9.12"
  }
 },
 "nbformat": 4,
 "nbformat_minor": 5
}
